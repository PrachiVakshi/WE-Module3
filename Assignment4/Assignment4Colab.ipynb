{
  "nbformat": 4,
  "nbformat_minor": 0,
  "metadata": {
    "colab": {
      "provenance": [],
      "authorship_tag": "ABX9TyPRun8l2CTYoYo6Wh22JZ6o",
      "include_colab_link": true
    },
    "kernelspec": {
      "name": "python3",
      "display_name": "Python 3"
    },
    "language_info": {
      "name": "python"
    }
  },
  "cells": [
    {
      "cell_type": "markdown",
      "metadata": {
        "id": "view-in-github",
        "colab_type": "text"
      },
      "source": [
        "<a href=\"https://colab.research.google.com/github/PrachiVakshi/WE-Module3/blob/main/Assignment4/Assignment4Colab.ipynb\" target=\"_parent\"><img src=\"https://colab.research.google.com/assets/colab-badge.svg\" alt=\"Open In Colab\"/></a>"
      ]
    },
    {
      "cell_type": "code",
      "execution_count": 3,
      "metadata": {
        "id": "U1BTM6Nx6e8P"
      },
      "outputs": [],
      "source": [
        "import random\n",
        "\n",
        "def read_file(filename):\n",
        "    with open(filename, 'r', encoding='utf-8') as file:\n",
        "        return file.read()\n",
        "\n",
        "def generate_chain(text, chain_length):\n",
        "    words = text.split()\n",
        "    chain = {}\n",
        "    for i in range(len(words) - chain_length):\n",
        "        prefix = tuple(words[i:i + chain_length])\n",
        "        suffix = words[i + chain_length]\n",
        "        if prefix in chain:\n",
        "            chain[prefix].append(suffix)\n",
        "        else:\n",
        "            chain[prefix] = [suffix]\n",
        "    return chain\n",
        "\n",
        "def generate(filename, start_words, chain_length, num_generated):\n",
        "    text = read_file(filename)\n",
        "    chain = generate_chain(text, chain_length)\n",
        "    current_words = tuple(start_words)\n",
        "    generated_words = list(current_words)\n",
        "\n",
        "    for _ in range(num_generated):\n",
        "        if current_words in chain:\n",
        "            next_word = random.choice(chain[current_words])\n",
        "            generated_words.append(next_word)\n",
        "            current_words = tuple(generated_words[-chain_length:])\n",
        "        else:\n",
        "            break\n",
        "\n",
        "    return ' '.join(generated_words)"
      ]
    },
    {
      "cell_type": "code",
      "source": [
        "filename = '/content/WE-Module3.txt'\n",
        "start_words = ['Birds', 'chirp']\n",
        "chain_length = 2\n",
        "num_generated = 8\n",
        "generated_sentence = generate(filename, start_words, chain_length, num_generated)\n",
        "print(generated_sentence)"
      ],
      "metadata": {
        "colab": {
          "base_uri": "https://localhost:8080/"
        },
        "id": "VUOpmloT8pG4",
        "outputId": "d80c7a71-529f-4631-ada5-c9e9c8ad1ecf"
      },
      "execution_count": 4,
      "outputs": [
        {
          "output_type": "stream",
          "name": "stdout",
          "text": [
            "Birds chirp happily in the east. Birds chirp happily in\n"
          ]
        }
      ]
    },
    {
      "cell_type": "code",
      "source": [
        "filename = '/content/WE-Module3.txt'\n",
        "start_words = ['Birds', 'chirp']\n",
        "chain_length = 2\n",
        "num_generated = 8\n",
        "generated_sentence = generate(filename, start_words, chain_length, num_generated)\n",
        "print(generated_sentence)"
      ],
      "metadata": {
        "colab": {
          "base_uri": "https://localhost:8080/"
        },
        "id": "Z0CXVNft8ujR",
        "outputId": "1525f50e-1fae-4017-fdcf-16562937eb4d"
      },
      "execution_count": 5,
      "outputs": [
        {
          "output_type": "stream",
          "name": "stdout",
          "text": [
            "Birds chirp happily in the east. Birds chirp happily in\n"
          ]
        }
      ]
    },
    {
      "cell_type": "code",
      "source": [
        "filename = '/content/WE-Module3.txt'\n",
        "start_words = ['Birds', 'chirp']\n",
        "chain_length = 2\n",
        "num_generated = 8\n",
        "generated_sentence = generate(filename, start_words, chain_length, num_generated)\n",
        "print(generated_sentence)"
      ],
      "metadata": {
        "colab": {
          "base_uri": "https://localhost:8080/"
        },
        "id": "m2g66HFj8vQf",
        "outputId": "0f21334b-dbb3-4b3d-f634-b34a47c8eeaf"
      },
      "execution_count": 6,
      "outputs": [
        {
          "output_type": "stream",
          "name": "stdout",
          "text": [
            "Birds chirp happily in the morning. The east wind blows\n"
          ]
        }
      ]
    }
  ]
}