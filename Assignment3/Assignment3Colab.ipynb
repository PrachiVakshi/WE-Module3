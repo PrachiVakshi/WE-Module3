{
  "nbformat": 4,
  "nbformat_minor": 0,
  "metadata": {
    "colab": {
      "provenance": [],
      "authorship_tag": "ABX9TyPWaQOlMAlz0g12n4fTZ9Xd",
      "include_colab_link": true
    },
    "kernelspec": {
      "name": "python3",
      "display_name": "Python 3"
    },
    "language_info": {
      "name": "python"
    }
  },
  "cells": [
    {
      "cell_type": "markdown",
      "metadata": {
        "id": "view-in-github",
        "colab_type": "text"
      },
      "source": [
        "<a href=\"https://colab.research.google.com/github/PrachiVakshi/WE-Module3/blob/main/Assignment3/Assignment3Colab.ipynb\" target=\"_parent\"><img src=\"https://colab.research.google.com/assets/colab-badge.svg\" alt=\"Open In Colab\"/></a>"
      ]
    },
    {
      "cell_type": "code",
      "source": [
        "def yahtzee_score(dice, category):\n",
        "    if category == \"ones\":\n",
        "        return dice.count(1) * 1\n",
        "    elif category == \"twos\":\n",
        "        return dice.count(2) * 2\n",
        "    elif category == \"threes\":\n",
        "        return dice.count(3) * 3\n",
        "    elif category == \"fours\":\n",
        "        return dice.count(4) * 4\n",
        "    elif category == \"fives\":\n",
        "        return dice.count(5) * 5\n",
        "    elif category == \"sixes\":\n",
        "        return dice.count(6) * 6\n",
        "    elif category == \"three of a kind\":\n",
        "        for i in range(1, 7):\n",
        "            if dice.count(i) >= 3:\n",
        "                return sum(dice)\n",
        "        return 0\n",
        "    elif category == \"four of a kind\":\n",
        "        for i in range(1, 7):\n",
        "            if dice.count(i) >= 4:\n",
        "                return sum(dice)\n",
        "        return 0\n",
        "    elif category == \"full house\":\n",
        "        counts = [dice.count(i) for i in range(1, 7)]\n",
        "        if 2 in counts and 3 in counts:\n",
        "            return 25\n",
        "        else:\n",
        "            return 0\n",
        "    elif category == \"small straight\":\n",
        "        sorted_dice = sorted(dice)\n",
        "        for i in range(len(sorted_dice) - 3):\n",
        "            if sorted_dice[i+3] - sorted_dice[i] <= 3:\n",
        "                return 30\n",
        "        return 0\n",
        "    elif category == \"large straight\":\n",
        "        if sorted(dice) in [[1, 2, 3, 4, 5], [2, 3, 4, 5, 6]]:\n",
        "            return 40\n",
        "        else:\n",
        "            return 0\n",
        "    elif category == \"yahtzee\":\n",
        "        if dice.count(dice[0]) == 5:\n",
        "            return 50\n",
        "        else:\n",
        "            return 0\n",
        "    elif category == \"chance\":\n",
        "        return sum(dice)\n",
        "    else:\n",
        "        return \"Invalid category\""
      ],
      "metadata": {
        "id": "V1RVA77Z46tH"
      },
      "execution_count": 16,
      "outputs": []
    },
    {
      "cell_type": "code",
      "source": [
        "# Test Case 1\n",
        "dice_1 = [1, 1, 2, 3, 4]\n",
        "category_1 = \"ones\"\n",
        "print(\"Test Case 1: Result =\", yahtzee_score(dice_1, category_1))\n",
        "\n",
        "# Test Case 2\n",
        "dice_2 = [1, 1, 2, 2, 2]\n",
        "category_2 = \"full house\"\n",
        "print(\"Test Case 2: Result =\", yahtzee_score(dice_2, category_2))\n",
        "\n",
        "# Test Case 3\n",
        "dice_3 = [1, 2, 3, 4, 6]\n",
        "category_3 = \"small straight\"\n",
        "print(\"Test Case 3: Result =\", yahtzee_score(dice_3, category_3))\n",
        "\n",
        "# Test Case 4\n",
        "dice_4 = [6, 6, 6, 6, 6]\n",
        "category_4 = \"yahtzee\"\n",
        "print(\"Test Case 4: Result =\", yahtzee_score(dice_4, category_4))\n",
        "\n",
        "# Test Case 5\n",
        "dice_5 = [3, 3, 3, 3, 6]\n",
        "category_5 = \"four of a kind\"\n",
        "print(\"Test Case 5: Result =\", yahtzee_score(dice_5, category_5))"
      ],
      "metadata": {
        "colab": {
          "base_uri": "https://localhost:8080/"
        },
        "id": "JSwYjt44X94C",
        "outputId": "4b9ec841-7e5b-4617-9236-86541acb08b2"
      },
      "execution_count": 17,
      "outputs": [
        {
          "output_type": "stream",
          "name": "stdout",
          "text": [
            "Test Case 1: Result = 2\n",
            "Test Case 2: Result = 25\n",
            "Test Case 3: Result = 30\n",
            "Test Case 4: Result = 50\n",
            "Test Case 5: Result = 18\n"
          ]
        }
      ]
    },
    {
      "cell_type": "code",
      "source": [
        "dice = [6, 3, 3, 5, 4]\n",
        "print(\"Test Case 3: Result =\", yahtzee_score(dice, \"small straight\"))"
      ],
      "metadata": {
        "colab": {
          "base_uri": "https://localhost:8080/"
        },
        "id": "zcesgFC6tVys",
        "outputId": "ec145684-614b-4ab7-b7b1-1d6b79585ecc"
      },
      "execution_count": 22,
      "outputs": [
        {
          "output_type": "stream",
          "name": "stdout",
          "text": [
            "Test Case 3: Result = 30\n"
          ]
        }
      ]
    }
  ]
}