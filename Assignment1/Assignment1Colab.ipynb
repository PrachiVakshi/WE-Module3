{
  "nbformat": 4,
  "nbformat_minor": 0,
  "metadata": {
    "colab": {
      "provenance": [],
      "authorship_tag": "ABX9TyMeChSxQsMTBGVflKhsGUB0",
      "include_colab_link": true
    },
    "kernelspec": {
      "name": "python3",
      "display_name": "Python 3"
    },
    "language_info": {
      "name": "python"
    }
  },
  "cells": [
    {
      "cell_type": "markdown",
      "metadata": {
        "id": "view-in-github",
        "colab_type": "text"
      },
      "source": [
        "<a href=\"https://colab.research.google.com/github/PrachiVakshi/WE-Module3/blob/main/Assignment1/Assignment1Colab.ipynb\" target=\"_parent\"><img src=\"https://colab.research.google.com/assets/colab-badge.svg\" alt=\"Open In Colab\"/></a>"
      ]
    },
    {
      "cell_type": "code",
      "execution_count": 1,
      "metadata": {
        "id": "22R3ZTnFY-RX"
      },
      "outputs": [],
      "source": [
        "def is_odd(num):\n",
        "    return num % 2 != 0\n",
        "\n",
        "def distribute_one_idli(idlis, idx):\n",
        "    idlis[idx] += 1\n",
        "    idlis[idx + 1] += 1\n",
        "\n",
        "def distribute_idlis(idlis):\n",
        "    n = len(idlis)\n",
        "    count = 0\n",
        "\n",
        "    for i in range(n):\n",
        "        if is_odd(idlis[i]):\n",
        "            if i == n - 1:\n",
        "                return -1\n",
        "            distribute_one_idli(idlis, i)\n",
        "            count += 2\n",
        "\n",
        "    return count"
      ]
    },
    {
      "cell_type": "code",
      "source": [
        "idlis =  [2, 2, 2, 2, 2]\n",
        "result = distribute_idlis(idlis)\n",
        "print(\"Minimum number of idlis to distribute:\", result)"
      ],
      "metadata": {
        "colab": {
          "base_uri": "https://localhost:8080/"
        },
        "id": "RnbZlA_bZAo8",
        "outputId": "fcf9ef63-bc87-41f9-93d7-ff0b8d7f04e9"
      },
      "execution_count": 2,
      "outputs": [
        {
          "output_type": "stream",
          "name": "stdout",
          "text": [
            "Minimum number of idlis to distribute: 0\n"
          ]
        }
      ]
    },
    {
      "cell_type": "code",
      "source": [
        "idlis =   [1, 3, 2, 4, 5]\n",
        "result = distribute_idlis(idlis)\n",
        "print(\"Minimum number of idlis to distribute:\", result)"
      ],
      "metadata": {
        "colab": {
          "base_uri": "https://localhost:8080/"
        },
        "id": "3gMjsEzeincz",
        "outputId": "6be06c21-d708-4b84-e12a-29bc603852f1"
      },
      "execution_count": 3,
      "outputs": [
        {
          "output_type": "stream",
          "name": "stdout",
          "text": [
            "Minimum number of idlis to distribute: -1\n"
          ]
        }
      ]
    },
    {
      "cell_type": "code",
      "source": [
        "idlis =   [1, 3, 5, 7, 9]\n",
        "result = distribute_idlis(idlis)\n",
        "print(\"Minimum number of idlis to distribute:\", result)"
      ],
      "metadata": {
        "colab": {
          "base_uri": "https://localhost:8080/"
        },
        "id": "qnaugBAvisJ8",
        "outputId": "f2196a87-e338-409c-9d20-d0020340938c"
      },
      "execution_count": 4,
      "outputs": [
        {
          "output_type": "stream",
          "name": "stdout",
          "text": [
            "Minimum number of idlis to distribute: -1\n"
          ]
        }
      ]
    },
    {
      "cell_type": "code",
      "source": [
        "idlis =   [1, 3, 5, 9]\n",
        "result = distribute_idlis(idlis)\n",
        "print(\"Minimum number of idlis to distribute:\", result)"
      ],
      "metadata": {
        "colab": {
          "base_uri": "https://localhost:8080/"
        },
        "id": "pAGpDBuHjVDz",
        "outputId": "2b406fe9-8aff-42eb-c94c-7b9ac18e6225"
      },
      "execution_count": 5,
      "outputs": [
        {
          "output_type": "stream",
          "name": "stdout",
          "text": [
            "Minimum number of idlis to distribute: 4\n"
          ]
        }
      ]
    },
    {
      "cell_type": "code",
      "source": [
        "idlis =   [1, 3, 2, 4, 5, 9]\n",
        "result = distribute_idlis(idlis)\n",
        "print(\"Minimum number of idlis to distribute:\", result)"
      ],
      "metadata": {
        "colab": {
          "base_uri": "https://localhost:8080/"
        },
        "id": "ljjrgsB1jXoB",
        "outputId": "71875907-d893-4310-a74e-b249f3698c23"
      },
      "execution_count": 6,
      "outputs": [
        {
          "output_type": "stream",
          "name": "stdout",
          "text": [
            "Minimum number of idlis to distribute: 4\n"
          ]
        }
      ]
    },
    {
      "cell_type": "code",
      "source": [
        "idlis =   [1]\n",
        "result = distribute_idlis(idlis)\n",
        "print(\"Minimum number of idlis to distribute:\", result)"
      ],
      "metadata": {
        "colab": {
          "base_uri": "https://localhost:8080/"
        },
        "id": "-cKhN3o6jbov",
        "outputId": "017b8698-33e4-4116-c03e-3ab041645370"
      },
      "execution_count": 7,
      "outputs": [
        {
          "output_type": "stream",
          "name": "stdout",
          "text": [
            "Minimum number of idlis to distribute: -1\n"
          ]
        }
      ]
    },
    {
      "cell_type": "code",
      "source": [
        "idlis =   [6]\n",
        "result = distribute_idlis(idlis)\n",
        "print(\"Minimum number of idlis to distribute:\", result)"
      ],
      "metadata": {
        "colab": {
          "base_uri": "https://localhost:8080/"
        },
        "id": "g8BgcsipjgXJ",
        "outputId": "8b713b08-c674-422f-88a2-bca1b11356fa"
      },
      "execution_count": 8,
      "outputs": [
        {
          "output_type": "stream",
          "name": "stdout",
          "text": [
            "Minimum number of idlis to distribute: 0\n"
          ]
        }
      ]
    },
    {
      "cell_type": "code",
      "source": [
        "idlis =   []\n",
        "result = distribute_idlis(idlis)\n",
        "print(\"Minimum number of idlis to distribute:\", result)"
      ],
      "metadata": {
        "colab": {
          "base_uri": "https://localhost:8080/"
        },
        "id": "sSvvJcY8jiQ2",
        "outputId": "236782bc-0881-470e-e1e9-2cfcab3d969e"
      },
      "execution_count": 9,
      "outputs": [
        {
          "output_type": "stream",
          "name": "stdout",
          "text": [
            "Minimum number of idlis to distribute: 0\n"
          ]
        }
      ]
    },
    {
      "cell_type": "code",
      "source": [
        "idlis = [2, 3, 4, 5, 6, 7, 8, 9, 10, 11]\n",
        "result = distribute_idlis(idlis)\n",
        "print(\"Minimum number of idlis to distribute:\", result)"
      ],
      "metadata": {
        "colab": {
          "base_uri": "https://localhost:8080/"
        },
        "id": "-rOR6bqPjjsg",
        "outputId": "e13283a3-7ff2-4547-c4ae-c701e0be3cea"
      },
      "execution_count": 10,
      "outputs": [
        {
          "output_type": "stream",
          "name": "stdout",
          "text": [
            "Minimum number of idlis to distribute: -1\n"
          ]
        }
      ]
    }
  ]
}